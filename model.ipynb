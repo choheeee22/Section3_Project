{
 "cells": [
  {
   "cell_type": "code",
   "execution_count": 1,
   "metadata": {},
   "outputs": [],
   "source": [
    "from sklearn.metrics import mean_absolute_error,accuracy_score, r2_score\n",
    "from sklearn.pipeline import make_pipeline\n",
    "from sklearn.impute import SimpleImputer\n",
    "from sklearn.ensemble import RandomForestRegressor"
   ]
  },
  {
   "cell_type": "code",
   "execution_count": 2,
   "metadata": {},
   "outputs": [],
   "source": [
    "import pandas as pd\n",
    "import numpy as np"
   ]
  },
  {
   "cell_type": "code",
   "execution_count": 28,
   "metadata": {},
   "outputs": [],
   "source": [
    "import sys\n",
    "sys.path.append('/Users/chohee/Section3_Project/Flask_Web_Server/')\n",
    "from preprocessing import Data2"
   ]
  },
  {
   "cell_type": "code",
   "execution_count": 29,
   "metadata": {},
   "outputs": [],
   "source": [
    "Data2.precipitation=Data2.precipitation.fillna(0)"
   ]
  },
  {
   "cell_type": "code",
   "execution_count": 30,
   "metadata": {},
   "outputs": [
    {
     "name": "stdout",
     "output_type": "stream",
     "text": [
      "          Date    total  avgtemp  maxtemp  mintemp  precipitation  Year  \\\n",
      "0   2020-01-02 58,446.8      1.0      3.8     -0.7            0.0  2020   \n",
      "1   2020-01-03 58,481.8     -0.1      4.6     -3.4            0.0  2020   \n",
      "2   2020-01-06 58,518.8      3.1      4.6      0.6            1.8  2020   \n",
      "3   2020-01-07 58,246.8      6.3      7.7      4.2           46.3  2020   \n",
      "4   2020-01-08 58,358.8      2.4      8.9     -0.4           11.6  2020   \n",
      "..         ...      ...      ...      ...      ...            ...   ...   \n",
      "243 2020-12-24 67,627.0      2.6      6.1     -2.0            0.0  2020   \n",
      "244 2020-12-28 67,487.8      6.7     11.4      4.2            1.3  2020   \n",
      "245 2020-12-29 67,649.8      0.1      4.3     -6.2            0.2  2020   \n",
      "246 2020-12-30 70,355.0    -10.9     -6.2    -12.9            0.0  2020   \n",
      "247 2020-12-31 75,387.0     -8.9     -5.0    -12.9            0.0  2020   \n",
      "\n",
      "     Month  Day  \n",
      "0        1    2  \n",
      "1        1    3  \n",
      "2        1    6  \n",
      "3        1    7  \n",
      "4        1    8  \n",
      "..     ...  ...  \n",
      "243     12   24  \n",
      "244     12   28  \n",
      "245     12   29  \n",
      "246     12   30  \n",
      "247     12   31  \n",
      "\n",
      "[248 rows x 9 columns]\n"
     ]
    }
   ],
   "source": [
    "print(Data2)"
   ]
  },
  {
   "cell_type": "code",
   "execution_count": 32,
   "metadata": {},
   "outputs": [
    {
     "name": "stdout",
     "output_type": "stream",
     "text": [
      "       total  avgtemp  maxtemp  mintemp  precipitation\n",
      "0   58,446.8      1.0      3.8     -0.7            0.0\n",
      "1   58,481.8     -0.1      4.6     -3.4            0.0\n",
      "2   58,518.8      3.1      4.6      0.6            1.8\n",
      "3   58,246.8      6.3      7.7      4.2           46.3\n",
      "4   58,358.8      2.4      8.9     -0.4           11.6\n",
      "..       ...      ...      ...      ...            ...\n",
      "243 67,627.0      2.6      6.1     -2.0            0.0\n",
      "244 67,487.8      6.7     11.4      4.2            1.3\n",
      "245 67,649.8      0.1      4.3     -6.2            0.2\n",
      "246 70,355.0    -10.9     -6.2    -12.9            0.0\n",
      "247 75,387.0     -8.9     -5.0    -12.9            0.0\n",
      "\n",
      "[248 rows x 5 columns]\n"
     ]
    }
   ],
   "source": [
    "print(Data2)"
   ]
  },
  {
   "cell_type": "code",
   "execution_count": 34,
   "metadata": {},
   "outputs": [],
   "source": [
    "#test data 분리 \n",
    "from sklearn.model_selection import train_test_split\n",
    "\n",
    "train, test = train_test_split(Data2, random_state=2)\n"
   ]
  },
  {
   "cell_type": "code",
   "execution_count": 35,
   "metadata": {},
   "outputs": [],
   "source": [
    "#타겟 데이터 분리 \n",
    "target='total'\n",
    "X_train=train.drop(target,axis=1)\n",
    "y_train=train[target]\n",
    "X_test=test.drop(target,axis=1)\n",
    "y_test=test[target]\n"
   ]
  },
  {
   "cell_type": "code",
   "execution_count": 36,
   "metadata": {},
   "outputs": [
    {
     "name": "stdout",
     "output_type": "stream",
     "text": [
      "18    56,123.8\n",
      "64    59,500.8\n",
      "5     58,096.8\n",
      "85    65,310.0\n",
      "2     58,518.8\n",
      "        ...   \n",
      "22    56,658.8\n",
      "72    59,812.8\n",
      "237   67,013.0\n",
      "15    55,988.8\n",
      "168   66,198.0\n",
      "Name: total, Length: 186, dtype: float64\n"
     ]
    }
   ],
   "source": [
    "print(y_train)"
   ]
  },
  {
   "cell_type": "code",
   "execution_count": 37,
   "metadata": {},
   "outputs": [
    {
     "name": "stdout",
     "output_type": "stream",
     "text": [
      "     avgtemp  maxtemp  mintemp  precipitation\n",
      "18       5.2     10.4      1.4            0.0\n",
      "64      10.0     16.3      5.3            0.0\n",
      "5       -1.2      2.0     -3.1            0.0\n",
      "85      19.9     27.3     14.3            2.3\n",
      "2        3.1      4.6      0.6            1.8\n",
      "..       ...      ...      ...            ...\n",
      "22      -8.3     -4.9    -11.0            0.0\n",
      "72      16.0     23.8      8.9            0.0\n",
      "237     -8.3     -3.9    -11.2            0.0\n",
      "15       4.6      9.9      0.0            0.0\n",
      "168     22.7     25.6     20.0           29.8\n",
      "\n",
      "[186 rows x 4 columns]\n"
     ]
    }
   ],
   "source": [
    "print(X_train)"
   ]
  },
  {
   "cell_type": "code",
   "execution_count": 38,
   "metadata": {},
   "outputs": [
    {
     "data": {
      "text/plain": [
       "64687.31449770555"
      ]
     },
     "execution_count": 38,
     "metadata": {},
     "output_type": "execute_result"
    }
   ],
   "source": [
    "#Base 라인 잡기 - total 가격 평균치 \n",
    "Base=y_train.mean()\n",
    "Base"
   ]
  },
  {
   "cell_type": "code",
   "execution_count": 39,
   "metadata": {},
   "outputs": [
    {
     "name": "stdout",
     "output_type": "stream",
     "text": [
      "기준모델 스코어\n",
      "훈련데이터\n",
      "MAE: 4040.9325357505663\n",
      "R2: -2.220446049250313e-16\n",
      "테스트데이터\n",
      "MAE: 4833.591989443207\n",
      "R2: -0.005394105061570009\n"
     ]
    },
    {
     "data": {
      "text/plain": [
       "(None, None)"
      ]
     },
     "execution_count": 39,
     "metadata": {},
     "output_type": "execute_result"
    }
   ],
   "source": [
    "#기준 모델 검증\n",
    "y_base_pred=[Base]*len(y_train)\n",
    "y_test_base_pred=[Base]*len(y_test)\n",
    "print(\"기준모델 스코어\")\n",
    "print(\"훈련데이터\")\n",
    "print(\"MAE:\",mean_absolute_error(y_train,y_base_pred)), print(\"R2:\",r2_score(y_train,y_base_pred))\n",
    "print(\"테스트데이터\")\n",
    "print(\"MAE:\",mean_absolute_error(y_test,y_test_base_pred)), print(\"R2:\",r2_score(y_test,y_test_base_pred))"
   ]
  },
  {
   "cell_type": "code",
   "execution_count": 40,
   "metadata": {},
   "outputs": [
    {
     "name": "stdout",
     "output_type": "stream",
     "text": [
      "훈련데이터\n",
      "MAE: 1378.5571896155259\n",
      "R2: 0.884808485981\n",
      "테스트\n",
      "MAE: 3306.07177892245\n",
      "R2: 0.3993620679653539\n"
     ]
    },
    {
     "data": {
      "text/plain": [
       "(None, None)"
      ]
     },
     "execution_count": 40,
     "metadata": {},
     "output_type": "execute_result"
    }
   ],
   "source": [
    "rf = make_pipeline(\n",
    "    SimpleImputer(),\n",
    "    RandomForestRegressor(n_jobs=-1)\n",
    ")\n",
    "\n",
    "rf.fit(X_train, y_train);\n",
    "y_train_pred=rf.predict(X_train)\n",
    "y_test_pred=rf.predict(X_test)\n",
    "\n",
    "print(\"훈련데이터\")\n",
    "print(\"MAE:\",mean_absolute_error(y_train,y_train_pred)), print(\"R2:\",r2_score(y_train,y_train_pred))\n",
    "print(\"테스트\")\n",
    "print(\"MAE:\",mean_absolute_error(y_test,y_test_pred)), print(\"R2:\",r2_score(y_test,y_test_pred))\n"
   ]
  },
  {
   "cell_type": "code",
   "execution_count": 41,
   "metadata": {},
   "outputs": [
    {
     "name": "stdout",
     "output_type": "stream",
     "text": [
      "Requirement already satisfied: joblib in /Users/chohee/opt/anaconda3/lib/python3.8/site-packages (0.17.0)\n",
      "Note: you may need to restart the kernel to use updated packages.\n"
     ]
    }
   ],
   "source": [
    "pip install joblib"
   ]
  },
  {
   "cell_type": "code",
   "execution_count": 45,
   "metadata": {},
   "outputs": [
    {
     "data": {
      "text/plain": [
       "['rf.pkl']"
      ]
     },
     "execution_count": 45,
     "metadata": {},
     "output_type": "execute_result"
    }
   ],
   "source": [
    "import joblib\n",
    "joblib.dump(rf,'rf.pkl')"
   ]
  },
  {
   "cell_type": "code",
   "execution_count": 52,
   "metadata": {},
   "outputs": [],
   "source": [
    "data=X_train.iloc[:1]"
   ]
  },
  {
   "cell_type": "code",
   "execution_count": 55,
   "metadata": {},
   "outputs": [
    {
     "name": "stdout",
     "output_type": "stream",
     "text": [
      "    avgtemp  maxtemp  mintemp  precipitation\n",
      "18      5.2     10.4      1.4            0.0\n"
     ]
    }
   ],
   "source": [
    "print(data)"
   ]
  },
  {
   "cell_type": "code",
   "execution_count": 54,
   "metadata": {},
   "outputs": [
    {
     "data": {
      "text/plain": [
       "avgtemp          float64\n",
       "maxtemp          float64\n",
       "mintemp          float64\n",
       "precipitation    float64\n",
       "dtype: object"
      ]
     },
     "execution_count": 54,
     "metadata": {},
     "output_type": "execute_result"
    }
   ],
   "source": [
    "data.dtypes"
   ]
  },
  {
   "cell_type": "code",
   "execution_count": 53,
   "metadata": {},
   "outputs": [
    {
     "name": "stdout",
     "output_type": "stream",
     "text": [
      "[59287.85058824]\n"
     ]
    }
   ],
   "source": [
    "print(rf.predict(data))"
   ]
  },
  {
   "cell_type": "code",
   "execution_count": 51,
   "metadata": {},
   "outputs": [
    {
     "name": "stdout",
     "output_type": "stream",
     "text": [
      "58481.76470588235\n"
     ]
    }
   ],
   "source": [
    "print(y_train[1])"
   ]
  },
  {
   "cell_type": "code",
   "execution_count": 62,
   "metadata": {},
   "outputs": [
    {
     "name": "stdout",
     "output_type": "stream",
     "text": [
      "64581.07296653945\n"
     ]
    }
   ],
   "source": [
    "mean=Data2[target].mean()\n",
    "print(mean)"
   ]
  },
  {
   "cell_type": "code",
   "execution_count": null,
   "metadata": {},
   "outputs": [],
   "source": []
  }
 ],
 "metadata": {
  "kernelspec": {
   "display_name": "Python 3",
   "language": "python",
   "name": "python3"
  },
  "language_info": {
   "codemirror_mode": {
    "name": "ipython",
    "version": 3
   },
   "file_extension": ".py",
   "mimetype": "text/x-python",
   "name": "python",
   "nbconvert_exporter": "python",
   "pygments_lexer": "ipython3",
   "version": "3.8.5"
  }
 },
 "nbformat": 4,
 "nbformat_minor": 4
}
